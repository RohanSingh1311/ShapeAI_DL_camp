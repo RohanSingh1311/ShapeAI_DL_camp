{
  "nbformat": 4,
  "nbformat_minor": 0,
  "metadata": {
    "colab": {
      "name": "Rohan_Singh.ipynb",
      "provenance": []
    },
    "kernelspec": {
      "name": "python3",
      "display_name": "Python 3"
    },
    "language_info": {
      "name": "python"
    }
  },
  "cells": [
    {
      "cell_type": "code",
      "metadata": {
        "colab": {
          "base_uri": "https://localhost:8080/"
        },
        "id": "PF_0clA_58rk",
        "outputId": "88e1d2d1-363d-440e-b6d8-04aff7e8671e"
      },
      "source": [
        "# Importing Dataset\n",
        "\n",
        "from keras.datasets import mnist\n",
        "\n",
        "data= mnist.load_data()"
      ],
      "execution_count": 1,
      "outputs": [
        {
          "output_type": "stream",
          "text": [
            "Downloading data from https://storage.googleapis.com/tensorflow/tf-keras-datasets/mnist.npz\n",
            "11493376/11490434 [==============================] - 0s 0us/step\n"
          ],
          "name": "stdout"
        }
      ]
    },
    {
      "cell_type": "code",
      "metadata": {
        "id": "pO6dZxPf598O"
      },
      "source": [
        "(X_train, Y_train), (X_test, Y_test)= data"
      ],
      "execution_count": 2,
      "outputs": []
    },
    {
      "cell_type": "code",
      "metadata": {
        "id": "iA_EZ1Xo6DhE"
      },
      "source": [
        "#Reshape the Training data\n",
        "X_train= X_train.reshape((X_train.shape[0], 28*28)).astype('float32')\n",
        "X_test= X_test.reshape((X_test.shape[0], 28*28)).astype('float32')"
      ],
      "execution_count": 3,
      "outputs": []
    },
    {
      "cell_type": "code",
      "metadata": {
        "id": "PsqNu9CK6IVi"
      },
      "source": [
        "#Normalizing values from 0-255 to 0-1\n",
        "X_train = X_train/255\n",
        "X_test = X_test/255"
      ],
      "execution_count": 4,
      "outputs": []
    },
    {
      "cell_type": "code",
      "metadata": {
        "colab": {
          "base_uri": "https://localhost:8080/"
        },
        "id": "KC1rVJbK6NnH",
        "outputId": "de92db35-4a1f-42df-c080-1329c2d08d5e"
      },
      "source": [
        "from keras.utils import np_utils\n",
        "\n",
        "print(Y_train.shape)\n",
        "\n",
        "Y_train=np_utils.to_categorical(Y_train)\n",
        "Y_test=np_utils.to_categorical(Y_test)\n",
        "num_classes= Y_test.shape[1]\n",
        "print(num_classes)"
      ],
      "execution_count": 5,
      "outputs": [
        {
          "output_type": "stream",
          "text": [
            "(60000,)\n",
            "10\n"
          ],
          "name": "stdout"
        }
      ]
    },
    {
      "cell_type": "code",
      "metadata": {
        "id": "6wd9aHgB6W5K"
      },
      "source": [
        "from keras.models import Sequential\n",
        "from keras.layers import Dense"
      ],
      "execution_count": 6,
      "outputs": []
    },
    {
      "cell_type": "code",
      "metadata": {
        "id": "diA8sp6X6bPT"
      },
      "source": [
        "#define Model\n",
        "model= Sequential()\n",
        "\n",
        "#Add First Hidden Layer\n",
        "model.add(Dense(32, input_dim= 28*28, activation='relu'))\n",
        "\n",
        "#Add Second Hidden layer\n",
        "model.add(Dense(64, activation='relu'))\n",
        "\n",
        "#Add output layer having 10 neurons (since there are 10 classes/categories in )\n",
        "model.add(Dense(10, activation='softmax'))"
      ],
      "execution_count": 7,
      "outputs": []
    },
    {
      "cell_type": "code",
      "metadata": {
        "id": "gzBVPMHp6iCe"
      },
      "source": [
        "#compile Model\n",
        "model.compile(loss='categorical_crossentropy', optimizer='adam', metrics=['accuracy'])"
      ],
      "execution_count": 8,
      "outputs": []
    },
    {
      "cell_type": "code",
      "metadata": {
        "colab": {
          "base_uri": "https://localhost:8080/"
        },
        "id": "-jWO1JSa6n_Y",
        "outputId": "4afe7969-3121-4d93-ee1f-1f89883360d3"
      },
      "source": [
        "#Print Model Summary\n",
        "model.summary()"
      ],
      "execution_count": 9,
      "outputs": [
        {
          "output_type": "stream",
          "text": [
            "Model: \"sequential\"\n",
            "_________________________________________________________________\n",
            "Layer (type)                 Output Shape              Param #   \n",
            "=================================================================\n",
            "dense (Dense)                (None, 32)                25120     \n",
            "_________________________________________________________________\n",
            "dense_1 (Dense)              (None, 64)                2112      \n",
            "_________________________________________________________________\n",
            "dense_2 (Dense)              (None, 10)                650       \n",
            "=================================================================\n",
            "Total params: 27,882\n",
            "Trainable params: 27,882\n",
            "Non-trainable params: 0\n",
            "_________________________________________________________________\n"
          ],
          "name": "stdout"
        }
      ]
    },
    {
      "cell_type": "code",
      "metadata": {
        "colab": {
          "base_uri": "https://localhost:8080/"
        },
        "id": "H4FXcTXG6q2H",
        "outputId": "2d729420-5dae-4182-e843-b8db19527934"
      },
      "source": [
        "#Train Model\n",
        "model.fit(X_train, Y_train, epochs=10, batch_size=100)"
      ],
      "execution_count": 10,
      "outputs": [
        {
          "output_type": "stream",
          "text": [
            "Epoch 1/10\n",
            "600/600 [==============================] - 2s 2ms/step - loss: 0.7477 - accuracy: 0.7919\n",
            "Epoch 2/10\n",
            "600/600 [==============================] - 1s 2ms/step - loss: 0.2224 - accuracy: 0.9354\n",
            "Epoch 3/10\n",
            "600/600 [==============================] - 1s 2ms/step - loss: 0.1640 - accuracy: 0.9519\n",
            "Epoch 4/10\n",
            "600/600 [==============================] - 1s 2ms/step - loss: 0.1377 - accuracy: 0.9589\n",
            "Epoch 5/10\n",
            "600/600 [==============================] - 1s 2ms/step - loss: 0.1137 - accuracy: 0.9654\n",
            "Epoch 6/10\n",
            "600/600 [==============================] - 1s 2ms/step - loss: 0.0980 - accuracy: 0.9696\n",
            "Epoch 7/10\n",
            "600/600 [==============================] - 1s 2ms/step - loss: 0.0878 - accuracy: 0.9733\n",
            "Epoch 8/10\n",
            "600/600 [==============================] - 1s 2ms/step - loss: 0.0758 - accuracy: 0.9765\n",
            "Epoch 9/10\n",
            "600/600 [==============================] - 1s 2ms/step - loss: 0.0654 - accuracy: 0.9801\n",
            "Epoch 10/10\n",
            "600/600 [==============================] - 1s 2ms/step - loss: 0.0628 - accuracy: 0.9808\n"
          ],
          "name": "stdout"
        },
        {
          "output_type": "execute_result",
          "data": {
            "text/plain": [
              "<tensorflow.python.keras.callbacks.History at 0x7fa2ea136590>"
            ]
          },
          "metadata": {
            "tags": []
          },
          "execution_count": 10
        }
      ]
    },
    {
      "cell_type": "code",
      "metadata": {
        "colab": {
          "base_uri": "https://localhost:8080/"
        },
        "id": "lyOtthhw6vvN",
        "outputId": "3bc94988-d9dd-4a10-abbc-6531bfcf07d7"
      },
      "source": [
        "#returns loss and accuracy\n",
        "scores= model.evaluate(X_test,Y_test)\n",
        "print(scores)"
      ],
      "execution_count": 11,
      "outputs": [
        {
          "output_type": "stream",
          "text": [
            "313/313 [==============================] - 0s 905us/step - loss: 0.1067 - accuracy: 0.9682\n",
            "[0.10667958110570908, 0.9682000279426575]\n"
          ],
          "name": "stdout"
        }
      ]
    },
    {
      "cell_type": "code",
      "metadata": {
        "id": "zIfXPOHw63oN"
      },
      "source": [
        ""
      ],
      "execution_count": null,
      "outputs": []
    }
  ]
}